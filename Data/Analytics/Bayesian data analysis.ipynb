{
 "cells": [
  {
   "cell_type": "markdown",
   "metadata": {},
   "source": [
    "#### Bayesian data analysis"
   ]
  },
  {
   "cell_type": "code",
   "execution_count": 2,
   "metadata": {},
   "outputs": [],
   "source": [
    "import pandas as pd\n",
    "import numpy as np"
   ]
  },
  {
   "cell_type": "markdown",
   "metadata": {},
   "source": [
    "#### Definição do Problema"
   ]
  },
  {
   "cell_type": "markdown",
   "metadata": {},
   "source": [
    "Suponhamos que estamos experimentando uma estratégia de marketing. E gostaria de prever se os clientes se registrarão para receber nosso produto depois de mostrarmos o produto a ela. Então saímos e fizemos uma amostra de alguns clientes (digamos, 16 deles) e recuperamos a taxa de registro (digamos, 6 deles registrados). Então, com essa taxa de registro, como podemos inferir a probabilidade de registro?"
   ]
  },
  {
   "cell_type": "code",
   "execution_count": 3,
   "metadata": {},
   "outputs": [],
   "source": [
    "n_sample = 16\n",
    "n_registered = 6"
   ]
  },
  {
   "cell_type": "markdown",
   "metadata": {},
   "source": [
    "#### Anteriormente"
   ]
  },
  {
   "cell_type": "markdown",
   "metadata": {},
   "source": [
    "Sem qualquer conhecimento, assumimos que nosso parâmetro estimado (por exemplo, ρ para uma distribuição de Bernoulli, para taxa de sucesso) é distribuído de 0,0 a 1,0 uniformemente. Portanto, sorteamos aleatoriamente 10.000 valores para μ da distribuição uniforme."
   ]
  },
  {
   "cell_type": "code",
   "execution_count": 4,
   "metadata": {},
   "outputs": [
    {
     "data": {
      "text/plain": [
       "<Axes: >"
      ]
     },
     "execution_count": 4,
     "metadata": {},
     "output_type": "execute_result"
    },
    {
     "data": {
      "image/png": "[encoded data removed]",
      "text/plain": [
       "<Figure size 640x480 with 1 Axes>"
      ]
     },
     "metadata": {},
     "output_type": "display_data"
    }
   ],
   "source": [
    "n_draws = 10000\n",
    "# samples randomly for the prior\n",
    "prior = pd.Series(np.random.uniform(0.0, 1.0, n_draws))\n",
    "# draw the distributions of the prior\n",
    "prior.hist()"
   ]
  },
  {
   "cell_type": "markdown",
   "metadata": {},
   "source": [
    "#### Modelo Generativo"
   ]
  },
  {
   "cell_type": "markdown",
   "metadata": {},
   "source": [
    "O modelo generativo é usado para gerar resultados com base em um prior selecionado. Estamos analisando se um cliente se cadastra em nosso produto após uma propaganda ou não. Portanto, nosso modo generativo segue a distribuição de Bernoulli."
   ]
  },
  {
   "cell_type": "code",
   "execution_count": 5,
   "metadata": {},
   "outputs": [],
   "source": [
    "def generative_model(parameters):\n",
    "    return np.random.binomial(n_sample, parameters)"
   ]
  },
  {
   "cell_type": "code",
   "execution_count": 6,
   "metadata": {},
   "outputs": [
    {
     "name": "stdout",
     "output_type": "stream",
     "text": [
      "4\n",
      "15\n"
     ]
    }
   ],
   "source": [
    "# Test\n",
    "print(generative_model(0.1))\n",
    "print(generative_model(0.9))"
   ]
  },
  {
   "cell_type": "markdown",
   "metadata": {},
   "source": [
    "#### Simular dados baseados nos dados anteriores (aleatórios gerados) com o modelo generativo"
   ]
  },
  {
   "cell_type": "markdown",
   "metadata": {},
   "source": [
    "Simulamos os dados usando o modelo anterior e o generativo. Especificamente, para cada valor anterior (para ρ\n",
    " ) geramos o número de registros que podem ser gerados com base no anterior selecionado e no modelo generativo"
   ]
  },
  {
   "cell_type": "code",
   "execution_count": 7,
   "metadata": {},
   "outputs": [],
   "source": [
    "sim_data = list()\n",
    "for p in prior:\n",
    "    sim_data.append(generative_model(p))"
   ]
  },
  {
   "cell_type": "markdown",
   "metadata": {},
   "source": [
    "#### Posterior"
   ]
  },
  {
   "cell_type": "markdown",
   "metadata": {},
   "source": [
    "Filtre todos os sorteios que não correspondem aos dados. Ou seja, mantemos apenas as amostras que de 16 clientes, 6 foram cadastrados (ou o modelo generativo gera 6). Então observe a distribuição de ρ\n",
    "  dado este fato (dados). O posterior dará o ρ\n",
    "  que fornece os resultados exatamente como o nosso resultado (fatos). Assim, podemos voltar e verificar o nosso anterior (filtre-o) e obter o posterior"
   ]
  },
  {
   "cell_type": "code",
   "execution_count": 8,
   "metadata": {},
   "outputs": [],
   "source": [
    "posterior = prior[[x == n_registered for x in sim_data]]"
   ]
  },
  {
   "cell_type": "code",
   "execution_count": 9,
   "metadata": {},
   "outputs": [
    {
     "data": {
      "text/plain": [
       "18      0.234701\n",
       "28      0.210218\n",
       "37      0.435543\n",
       "91      0.334841\n",
       "109     0.429042\n",
       "          ...   \n",
       "9940    0.348441\n",
       "9952    0.308149\n",
       "9953    0.276758\n",
       "9958    0.411910\n",
       "9961    0.517282\n",
       "Length: 604, dtype: float64"
      ]
     },
     "execution_count": 9,
     "metadata": {},
     "output_type": "execute_result"
    }
   ],
   "source": [
    "posterior"
   ]
  },
  {
   "cell_type": "code",
   "execution_count": 10,
   "metadata": {},
   "outputs": [
    {
     "data": {
      "text/plain": [
       "<Axes: >"
      ]
     },
     "execution_count": 10,
     "metadata": {},
     "output_type": "execute_result"
    },
    {
     "data": {
      "image/png": "[encoded data removed]",
      "text/plain": [
       "<Figure size 640x480 with 1 Axes>"
      ]
     },
     "metadata": {},
     "output_type": "display_data"
    }
   ],
   "source": [
    "# show the distribution of the posterior\n",
    "posterior.hist()"
   ]
  },
  {
   "cell_type": "code",
   "execution_count": 11,
   "metadata": {},
   "outputs": [
    {
     "name": "stdout",
     "output_type": "stream",
     "text": [
      "Number of draws left: 604\n"
     ]
    }
   ],
   "source": [
    "print(f\"Number of draws left: {len(posterior)}\")"
   ]
  },
  {
   "cell_type": "code",
   "execution_count": 12,
   "metadata": {},
   "outputs": [
    {
     "name": "stdout",
     "output_type": "stream",
     "text": [
      "Posterior median: 0.379\n"
     ]
    }
   ],
   "source": [
    "print(f\"Posterior median: {'%.3f'%posterior.median()}\")"
   ]
  },
  {
   "cell_type": "code",
   "execution_count": 13,
   "metadata": {},
   "outputs": [
    {
     "name": "stdout",
     "output_type": "stream",
     "text": [
      "Posterior interval: 0.305, 0.450\n"
     ]
    }
   ],
   "source": [
    "print(f\"Posterior interval: {'%.3f'%posterior.quantile(0.25)}, {'%.3f'%posterior.quantile(0.75)}\")"
   ]
  },
  {
   "cell_type": "code",
   "execution_count": 14,
   "metadata": {},
   "outputs": [
    {
     "data": {
      "text/plain": [
       "0.9619205298013245"
      ]
     },
     "execution_count": 14,
     "metadata": {},
     "output_type": "execute_result"
    }
   ],
   "source": [
    "# how is the result comparing to 20%, meaning the percentages of posteriors that we can have the registration rate as 20%\n",
    "sum(posterior >0.2)/len(posterior)"
   ]
  },
  {
   "cell_type": "code",
   "execution_count": 15,
   "metadata": {},
   "outputs": [],
   "source": [
    "registrations = pd.Series([np.random.binomial(n=100, p=p) for p in posterior])"
   ]
  },
  {
   "cell_type": "code",
   "execution_count": 16,
   "metadata": {},
   "outputs": [
    {
     "data": {
      "text/plain": [
       "<Axes: >"
      ]
     },
     "execution_count": 16,
     "metadata": {},
     "output_type": "execute_result"
    },
    {
     "data": {
      "image/png": "[encoded data removed]",
      "text/plain": [
       "<Figure size 640x480 with 1 Axes>"
      ]
     },
     "metadata": {},
     "output_type": "display_data"
    }
   ],
   "source": [
    "registrations.hist()"
   ]
  },
  {
   "cell_type": "code",
   "execution_count": 17,
   "metadata": {},
   "outputs": [
    {
     "name": "stdout",
     "output_type": "stream",
     "text": [
      "Registration 95% quantile interval 16-64\n"
     ]
    }
   ],
   "source": [
    "print('Registration 95%% quantile interval %d-%d'%tuple(registrations.quantile([0.025, 0.975]).values))"
   ]
  },
  {
   "cell_type": "code",
   "execution_count": null,
   "metadata": {},
   "outputs": [],
   "source": []
  }
 ],
 "metadata": {
  "kernelspec": {
   "display_name": "Python 3",
   "language": "python",
   "name": "python3"
  },
  "language_info": {
   "codemirror_mode": {
    "name": "ipython",
    "version": 3
   },
   "file_extension": ".py",
   "mimetype": "text/x-python",
   "name": "python",
   "nbconvert_exporter": "python",
   "pygments_lexer": "ipython3",
   "version": "3.10.8"
  }
 },
 "nbformat": 4,
 "nbformat_minor": 2
}
